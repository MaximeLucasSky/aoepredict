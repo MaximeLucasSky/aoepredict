{
 "cells": [
  {
   "cell_type": "code",
   "execution_count": 4,
   "metadata": {},
   "outputs": [],
   "source": [
    "import json\n",
    "\n",
    "import pandas as pd\n",
    "import psycopg2\n",
    "\n",
    "def make_conn(filename):\n",
    "    \"\"\"\n",
    "    takes a json with necessary info and returns a connection to\n",
    "    the SQL server \n",
    "    \"\"\"\n",
    "    with open(filename,'r') as f:\n",
    "        config = json.load(f)\n",
    "\n",
    "    config_str = f\"dbname={config['dbname']} user={config['user']} password={config['password']} host={config['host']}\"\n",
    "    return psycopg2.connect(config_str)\n",
    "\n",
    "connection = make_conn(filename)"
   ]
  },
  {
   "cell_type": "code",
   "execution_count": 5,
   "metadata": {},
   "outputs": [
    {
     "data": {
      "text/plain": [
       "'dbname=mgzdb user=burlap password=qSpV4DoFVZP4 host=aocrecs.com'"
      ]
     },
     "execution_count": 5,
     "metadata": {},
     "output_type": "execute_result"
    }
   ],
   "source": []
  },
  {
   "cell_type": "code",
   "execution_count": null,
   "metadata": {},
   "outputs": [],
   "source": []
  }
 ],
 "metadata": {
  "kernelspec": {
   "display_name": "Python 3",
   "language": "python",
   "name": "python3"
  },
  "language_info": {
   "codemirror_mode": {
    "name": "ipython",
    "version": 3
   },
   "file_extension": ".py",
   "mimetype": "text/x-python",
   "name": "python",
   "nbconvert_exporter": "python",
   "pygments_lexer": "ipython3",
   "version": "3.8.2"
  }
 },
 "nbformat": 4,
 "nbformat_minor": 4
}
